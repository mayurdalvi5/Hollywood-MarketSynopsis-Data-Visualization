{
 "cells": [
  {
   "cell_type": "code",
   "execution_count": 1,
   "id": "76e82d88",
   "metadata": {
    "_cell_guid": "b1076dfc-b9ad-4769-8c92-a6c4dae69d19",
    "_uuid": "8f2839f25d086af736a60e9eeb907d3b93b6e0e5",
    "execution": {
     "iopub.execute_input": "2021-11-29T04:31:11.339036Z",
     "iopub.status.busy": "2021-11-29T04:31:11.338351Z",
     "iopub.status.idle": "2021-11-29T04:31:11.360552Z",
     "shell.execute_reply": "2021-11-29T04:31:11.361074Z",
     "shell.execute_reply.started": "2021-11-29T04:19:16.123814Z"
    },
    "papermill": {
     "duration": 0.056125,
     "end_time": "2021-11-29T04:31:11.361399",
     "exception": false,
     "start_time": "2021-11-29T04:31:11.305274",
     "status": "completed"
    },
    "tags": []
   },
   "outputs": [
    {
     "name": "stdout",
     "output_type": "stream",
     "text": [
      "/kaggle/input/hollywood-theatrical-market-synopsis-1995-to-2021/TopProductionMethods.csv\n",
      "/kaggle/input/hollywood-theatrical-market-synopsis-1995-to-2021/TopDistributors.csv\n",
      "/kaggle/input/hollywood-theatrical-market-synopsis-1995-to-2021/TopGenres.csv\n",
      "/kaggle/input/hollywood-theatrical-market-synopsis-1995-to-2021/PopularCreativeTypes.csv\n",
      "/kaggle/input/hollywood-theatrical-market-synopsis-1995-to-2021/TopGrossingRatings.csv\n",
      "/kaggle/input/hollywood-theatrical-market-synopsis-1995-to-2021/TopGrossingSources.csv\n",
      "/kaggle/input/hollywood-theatrical-market-synopsis-1995-to-2021/HighestGrossers.csv\n",
      "/kaggle/input/hollywood-theatrical-market-synopsis-1995-to-2021/AnnualTicketSales.csv\n",
      "/kaggle/input/hollywood-theatrical-market-synopsis-1995-to-2021/WideReleasesCount.csv\n"
     ]
    }
   ],
   "source": [
    "# This Python 3 environment comes with many helpful analytics libraries installed\n",
    "# It is defined by the kaggle/python Docker image: https://github.com/kaggle/docker-python\n",
    "# For example, here's several helpful packages to load\n",
    "\n",
    "import numpy as np # linear algebra\n",
    "import pandas as pd # data processing, CSV file I/O (e.g. pd.read_csv)\n",
    "\n",
    "# Input data files are available in the read-only \"../input/\" directory\n",
    "# For example, running this (by clicking run or pressing Shift+Enter) will list all files under the input directory\n",
    "\n",
    "import os\n",
    "for dirname, _, filenames in os.walk('/kaggle/input'):\n",
    "    for filename in filenames:\n",
    "        print(os.path.join(dirname, filename))\n",
    "\n",
    "# You can write up to 20GB to the current directory (/kaggle/working/) that gets preserved as output when you create a version using \"Save & Run All\" \n",
    "# You can also write temporary files to /kaggle/temp/, but they won't be saved outside of the current session"
   ]
  },
  {
   "cell_type": "markdown",
   "id": "560cdb34",
   "metadata": {
    "papermill": {
     "duration": 0.02235,
     "end_time": "2021-11-29T04:31:11.405549",
     "exception": false,
     "start_time": "2021-11-29T04:31:11.383199",
     "status": "completed"
    },
    "tags": []
   },
   "source": [
    "# Import Dependencies"
   ]
  },
  {
   "cell_type": "code",
   "execution_count": 2,
   "id": "95f1305f",
   "metadata": {
    "execution": {
     "iopub.execute_input": "2021-11-29T04:31:11.454964Z",
     "iopub.status.busy": "2021-11-29T04:31:11.454256Z",
     "iopub.status.idle": "2021-11-29T04:31:12.610551Z",
     "shell.execute_reply": "2021-11-29T04:31:12.609826Z",
     "shell.execute_reply.started": "2021-11-29T04:19:16.137284Z"
    },
    "papermill": {
     "duration": 1.181795,
     "end_time": "2021-11-29T04:31:12.610733",
     "exception": false,
     "start_time": "2021-11-29T04:31:11.428938",
     "status": "completed"
    },
    "tags": []
   },
   "outputs": [],
   "source": [
    "import numpy as np\n",
    "import pandas as pd\n",
    "import matplotlib.pyplot as plt\n",
    "import seaborn as sns"
   ]
  },
  {
   "cell_type": "markdown",
   "id": "85b28def",
   "metadata": {
    "papermill": {
     "duration": 0.020986,
     "end_time": "2021-11-29T04:31:12.653634",
     "exception": false,
     "start_time": "2021-11-29T04:31:12.632648",
     "status": "completed"
    },
    "tags": []
   },
   "source": [
    "# Reading CSV file"
   ]
  },
  {
   "cell_type": "code",
   "execution_count": 3,
   "id": "32f332df",
   "metadata": {
    "execution": {
     "iopub.execute_input": "2021-11-29T04:31:12.703872Z",
     "iopub.status.busy": "2021-11-29T04:31:12.703086Z",
     "iopub.status.idle": "2021-11-29T04:31:12.774218Z",
     "shell.execute_reply": "2021-11-29T04:31:12.774823Z",
     "shell.execute_reply.started": "2021-11-29T04:19:16.144972Z"
    },
    "papermill": {
     "duration": 0.099913,
     "end_time": "2021-11-29T04:31:12.775005",
     "exception": false,
     "start_time": "2021-11-29T04:31:12.675092",
     "status": "completed"
    },
    "tags": []
   },
   "outputs": [],
   "source": [
    "TopProductionMethod = pd.read_csv(\"/kaggle/input/hollywood-theatrical-market-synopsis-1995-to-2021/TopProductionMethods.csv\");\n",
    "TopDistributors = pd.read_csv(\"/kaggle/input/hollywood-theatrical-market-synopsis-1995-to-2021/TopDistributors.csv\");\n",
    "TopGenres = pd.read_csv(\"/kaggle/input/hollywood-theatrical-market-synopsis-1995-to-2021/TopGenres.csv\");\n",
    "PopularCreativeTypes = pd.read_csv(\"/kaggle/input/hollywood-theatrical-market-synopsis-1995-to-2021/PopularCreativeTypes.csv\");\n",
    "TopGrossingRatings = pd.read_csv(\"/kaggle/input/hollywood-theatrical-market-synopsis-1995-to-2021/TopGrossingRatings.csv\");\n",
    "TopGrossingSources = pd.read_csv(\"/kaggle/input/hollywood-theatrical-market-synopsis-1995-to-2021/TopGrossingSources.csv\");\n",
    "HighestGrossers = pd.read_csv(\"/kaggle/input/hollywood-theatrical-market-synopsis-1995-to-2021/HighestGrossers.csv\");\n",
    "AnnualTicketSales = pd.read_csv(\"/kaggle/input/hollywood-theatrical-market-synopsis-1995-to-2021/AnnualTicketSales.csv\",thousands = ',');\n",
    "WideReleasesCount = pd.read_csv(\"/kaggle/input/hollywood-theatrical-market-synopsis-1995-to-2021/WideReleasesCount.csv\");"
   ]
  },
  {
   "cell_type": "markdown",
   "id": "b906ae18",
   "metadata": {
    "papermill": {
     "duration": 0.021074,
     "end_time": "2021-11-29T04:31:12.816360",
     "exception": false,
     "start_time": "2021-11-29T04:31:12.795286",
     "status": "completed"
    },
    "tags": []
   },
   "source": [
    "# AnnualTicketSales"
   ]
  },
  {
   "cell_type": "code",
   "execution_count": 4,
   "id": "f8c7f2d3",
   "metadata": {
    "execution": {
     "iopub.execute_input": "2021-11-29T04:31:12.861500Z",
     "iopub.status.busy": "2021-11-29T04:31:12.860819Z",
     "iopub.status.idle": "2021-11-29T04:31:12.888260Z",
     "shell.execute_reply": "2021-11-29T04:31:12.888857Z",
     "shell.execute_reply.started": "2021-11-29T04:19:16.190950Z"
    },
    "papermill": {
     "duration": 0.051253,
     "end_time": "2021-11-29T04:31:12.889045",
     "exception": false,
     "start_time": "2021-11-29T04:31:12.837792",
     "status": "completed"
    },
    "tags": []
   },
   "outputs": [
    {
     "data": {
      "text/html": [
       "<div>\n",
       "<style scoped>\n",
       "    .dataframe tbody tr th:only-of-type {\n",
       "        vertical-align: middle;\n",
       "    }\n",
       "\n",
       "    .dataframe tbody tr th {\n",
       "        vertical-align: top;\n",
       "    }\n",
       "\n",
       "    .dataframe thead th {\n",
       "        text-align: right;\n",
       "    }\n",
       "</style>\n",
       "<table border=\"1\" class=\"dataframe\">\n",
       "  <thead>\n",
       "    <tr style=\"text-align: right;\">\n",
       "      <th></th>\n",
       "      <th>YEAR</th>\n",
       "      <th>TICKETS SOLD</th>\n",
       "      <th>TOTAL BOX OFFICE</th>\n",
       "      <th>TOTAL INFLATION ADJUSTED BOX OFFICE</th>\n",
       "      <th>AVERAGE TICKET PRICE</th>\n",
       "      <th>Unnamed: 5</th>\n",
       "    </tr>\n",
       "  </thead>\n",
       "  <tbody>\n",
       "    <tr>\n",
       "      <th>0</th>\n",
       "      <td>2021</td>\n",
       "      <td>423774881</td>\n",
       "      <td>$3,881,777,912</td>\n",
       "      <td>$3,881,777,912</td>\n",
       "      <td>$9.16</td>\n",
       "      <td>NaN</td>\n",
       "    </tr>\n",
       "    <tr>\n",
       "      <th>1</th>\n",
       "      <td>2020</td>\n",
       "      <td>223638958</td>\n",
       "      <td>$2,048,534,616</td>\n",
       "      <td>$2,048,534,616</td>\n",
       "      <td>$9.16</td>\n",
       "      <td>NaN</td>\n",
       "    </tr>\n",
       "    <tr>\n",
       "      <th>2</th>\n",
       "      <td>2019</td>\n",
       "      <td>1228541629</td>\n",
       "      <td>$11,253,443,955</td>\n",
       "      <td>$11,253,444,050</td>\n",
       "      <td>$9.16</td>\n",
       "      <td>NaN</td>\n",
       "    </tr>\n",
       "    <tr>\n",
       "      <th>3</th>\n",
       "      <td>2018</td>\n",
       "      <td>1311536128</td>\n",
       "      <td>$11,948,096,650</td>\n",
       "      <td>$12,013,670,952</td>\n",
       "      <td>$9.11</td>\n",
       "      <td>NaN</td>\n",
       "    </tr>\n",
       "    <tr>\n",
       "      <th>4</th>\n",
       "      <td>2017</td>\n",
       "      <td>1225639761</td>\n",
       "      <td>$10,993,991,460</td>\n",
       "      <td>$11,226,860,216</td>\n",
       "      <td>$8.97</td>\n",
       "      <td>NaN</td>\n",
       "    </tr>\n",
       "  </tbody>\n",
       "</table>\n",
       "</div>"
      ],
      "text/plain": [
       "   YEAR  TICKETS SOLD TOTAL BOX OFFICE TOTAL INFLATION ADJUSTED BOX OFFICE  \\\n",
       "0  2021     423774881   $3,881,777,912                      $3,881,777,912   \n",
       "1  2020     223638958   $2,048,534,616                      $2,048,534,616   \n",
       "2  2019    1228541629  $11,253,443,955                     $11,253,444,050   \n",
       "3  2018    1311536128  $11,948,096,650                     $12,013,670,952   \n",
       "4  2017    1225639761  $10,993,991,460                     $11,226,860,216   \n",
       "\n",
       "  AVERAGE TICKET PRICE  Unnamed: 5  \n",
       "0                $9.16         NaN  \n",
       "1                $9.16         NaN  \n",
       "2                $9.16         NaN  \n",
       "3                $9.11         NaN  \n",
       "4                $8.97         NaN  "
      ]
     },
     "execution_count": 4,
     "metadata": {},
     "output_type": "execute_result"
    }
   ],
   "source": [
    "AnnualTicketSales.head()"
   ]
  },
  {
   "cell_type": "code",
   "execution_count": 5,
   "id": "4c083fd4",
   "metadata": {
    "execution": {
     "iopub.execute_input": "2021-11-29T04:31:12.936577Z",
     "iopub.status.busy": "2021-11-29T04:31:12.935482Z",
     "iopub.status.idle": "2021-11-29T04:31:12.963034Z",
     "shell.execute_reply": "2021-11-29T04:31:12.963999Z",
     "shell.execute_reply.started": "2021-11-29T04:19:16.204770Z"
    },
    "papermill": {
     "duration": 0.053101,
     "end_time": "2021-11-29T04:31:12.964211",
     "exception": false,
     "start_time": "2021-11-29T04:31:12.911110",
     "status": "completed"
    },
    "tags": []
   },
   "outputs": [
    {
     "name": "stderr",
     "output_type": "stream",
     "text": [
      "/opt/conda/lib/python3.7/site-packages/ipykernel_launcher.py:2: FutureWarning: The default value of regex will change from True to False in a future version. In addition, single character regular expressions will *not* be treated as literal strings when regex=True.\n",
      "  \n",
      "/opt/conda/lib/python3.7/site-packages/ipykernel_launcher.py:5: FutureWarning: The default value of regex will change from True to False in a future version. In addition, single character regular expressions will *not* be treated as literal strings when regex=True.\n",
      "  \"\"\"\n",
      "/opt/conda/lib/python3.7/site-packages/ipykernel_launcher.py:7: FutureWarning: The default value of regex will change from True to False in a future version. In addition, single character regular expressions will *not* be treated as literal strings when regex=True.\n",
      "  import sys\n"
     ]
    }
   ],
   "source": [
    "AnnualTicketSales['TOTAL BOX OFFICE'] = AnnualTicketSales['TOTAL BOX OFFICE'].str.replace(',', '')\n",
    "AnnualTicketSales['TOTAL BOX OFFICE'] = AnnualTicketSales['TOTAL BOX OFFICE'].str.replace('$', '')\n",
    "\n",
    "AnnualTicketSales['TOTAL INFLATION ADJUSTED BOX OFFICE'] = AnnualTicketSales['TOTAL INFLATION ADJUSTED BOX OFFICE'].str.replace(',', '')\n",
    "AnnualTicketSales['TOTAL INFLATION ADJUSTED BOX OFFICE'] = AnnualTicketSales['TOTAL INFLATION ADJUSTED BOX OFFICE'].str.replace('$', '')\n",
    "\n",
    "AnnualTicketSales['AVERAGE TICKET PRICE'] = AnnualTicketSales['AVERAGE TICKET PRICE'].str.replace('$', '')\n",
    "\n",
    "AnnualTicketSales.drop('Unnamed: 5', axis = 1 , inplace = True)"
   ]
  },
  {
   "cell_type": "code",
   "execution_count": 6,
   "id": "ef245fda",
   "metadata": {
    "execution": {
     "iopub.execute_input": "2021-11-29T04:31:13.013471Z",
     "iopub.status.busy": "2021-11-29T04:31:13.012454Z",
     "iopub.status.idle": "2021-11-29T04:31:13.024274Z",
     "shell.execute_reply": "2021-11-29T04:31:13.024909Z",
     "shell.execute_reply.started": "2021-11-29T04:19:16.220837Z"
    },
    "papermill": {
     "duration": 0.038858,
     "end_time": "2021-11-29T04:31:13.025098",
     "exception": false,
     "start_time": "2021-11-29T04:31:12.986240",
     "status": "completed"
    },
    "tags": []
   },
   "outputs": [
    {
     "data": {
      "text/html": [
       "<div>\n",
       "<style scoped>\n",
       "    .dataframe tbody tr th:only-of-type {\n",
       "        vertical-align: middle;\n",
       "    }\n",
       "\n",
       "    .dataframe tbody tr th {\n",
       "        vertical-align: top;\n",
       "    }\n",
       "\n",
       "    .dataframe thead th {\n",
       "        text-align: right;\n",
       "    }\n",
       "</style>\n",
       "<table border=\"1\" class=\"dataframe\">\n",
       "  <thead>\n",
       "    <tr style=\"text-align: right;\">\n",
       "      <th></th>\n",
       "      <th>YEAR</th>\n",
       "      <th>TICKETS SOLD</th>\n",
       "      <th>TOTAL BOX OFFICE</th>\n",
       "      <th>TOTAL INFLATION ADJUSTED BOX OFFICE</th>\n",
       "      <th>AVERAGE TICKET PRICE</th>\n",
       "    </tr>\n",
       "  </thead>\n",
       "  <tbody>\n",
       "    <tr>\n",
       "      <th>0</th>\n",
       "      <td>2021</td>\n",
       "      <td>423774881</td>\n",
       "      <td>3881777912</td>\n",
       "      <td>3881777912</td>\n",
       "      <td>9.16</td>\n",
       "    </tr>\n",
       "    <tr>\n",
       "      <th>1</th>\n",
       "      <td>2020</td>\n",
       "      <td>223638958</td>\n",
       "      <td>2048534616</td>\n",
       "      <td>2048534616</td>\n",
       "      <td>9.16</td>\n",
       "    </tr>\n",
       "    <tr>\n",
       "      <th>2</th>\n",
       "      <td>2019</td>\n",
       "      <td>1228541629</td>\n",
       "      <td>11253443955</td>\n",
       "      <td>11253444050</td>\n",
       "      <td>9.16</td>\n",
       "    </tr>\n",
       "    <tr>\n",
       "      <th>3</th>\n",
       "      <td>2018</td>\n",
       "      <td>1311536128</td>\n",
       "      <td>11948096650</td>\n",
       "      <td>12013670952</td>\n",
       "      <td>9.11</td>\n",
       "    </tr>\n",
       "    <tr>\n",
       "      <th>4</th>\n",
       "      <td>2017</td>\n",
       "      <td>1225639761</td>\n",
       "      <td>10993991460</td>\n",
       "      <td>11226860216</td>\n",
       "      <td>8.97</td>\n",
       "    </tr>\n",
       "  </tbody>\n",
       "</table>\n",
       "</div>"
      ],
      "text/plain": [
       "   YEAR  TICKETS SOLD TOTAL BOX OFFICE TOTAL INFLATION ADJUSTED BOX OFFICE  \\\n",
       "0  2021     423774881       3881777912                          3881777912   \n",
       "1  2020     223638958       2048534616                          2048534616   \n",
       "2  2019    1228541629      11253443955                         11253444050   \n",
       "3  2018    1311536128      11948096650                         12013670952   \n",
       "4  2017    1225639761      10993991460                         11226860216   \n",
       "\n",
       "  AVERAGE TICKET PRICE  \n",
       "0                 9.16  \n",
       "1                 9.16  \n",
       "2                 9.16  \n",
       "3                 9.11  \n",
       "4                 8.97  "
      ]
     },
     "execution_count": 6,
     "metadata": {},
     "output_type": "execute_result"
    }
   ],
   "source": [
    "AnnualTicketSales.head()"
   ]
  },
  {
   "cell_type": "code",
   "execution_count": 7,
   "id": "300705bf",
   "metadata": {
    "execution": {
     "iopub.execute_input": "2021-11-29T04:31:13.074256Z",
     "iopub.status.busy": "2021-11-29T04:31:13.073138Z",
     "iopub.status.idle": "2021-11-29T04:31:13.078775Z",
     "shell.execute_reply": "2021-11-29T04:31:13.079372Z",
     "shell.execute_reply.started": "2021-11-29T04:19:16.237460Z"
    },
    "papermill": {
     "duration": 0.031353,
     "end_time": "2021-11-29T04:31:13.079549",
     "exception": false,
     "start_time": "2021-11-29T04:31:13.048196",
     "status": "completed"
    },
    "tags": []
   },
   "outputs": [],
   "source": [
    "AnnualTicketSales[\"TOTAL BOX OFFICE\"] = AnnualTicketSales[\"TOTAL BOX OFFICE\"].astype(str).astype(int)"
   ]
  },
  {
   "cell_type": "code",
   "execution_count": 8,
   "id": "8253aa56",
   "metadata": {
    "execution": {
     "iopub.execute_input": "2021-11-29T04:31:13.130941Z",
     "iopub.status.busy": "2021-11-29T04:31:13.129842Z",
     "iopub.status.idle": "2021-11-29T04:31:13.153164Z",
     "shell.execute_reply": "2021-11-29T04:31:13.152330Z",
     "shell.execute_reply.started": "2021-11-29T04:19:16.381889Z"
    },
    "papermill": {
     "duration": 0.051592,
     "end_time": "2021-11-29T04:31:13.153358",
     "exception": false,
     "start_time": "2021-11-29T04:31:13.101766",
     "status": "completed"
    },
    "tags": []
   },
   "outputs": [
    {
     "name": "stdout",
     "output_type": "stream",
     "text": [
      "<class 'pandas.core.frame.DataFrame'>\n",
      "RangeIndex: 27 entries, 0 to 26\n",
      "Data columns (total 5 columns):\n",
      " #   Column                               Non-Null Count  Dtype \n",
      "---  ------                               --------------  ----- \n",
      " 0   YEAR                                 27 non-null     int64 \n",
      " 1   TICKETS SOLD                         27 non-null     int64 \n",
      " 2   TOTAL BOX OFFICE                     27 non-null     int64 \n",
      " 3   TOTAL INFLATION ADJUSTED BOX OFFICE  27 non-null     object\n",
      " 4   AVERAGE TICKET PRICE                 27 non-null     object\n",
      "dtypes: int64(3), object(2)\n",
      "memory usage: 1.2+ KB\n"
     ]
    }
   ],
   "source": [
    "AnnualTicketSales.info()"
   ]
  },
  {
   "cell_type": "code",
   "execution_count": 9,
   "id": "13e3596b",
   "metadata": {
    "execution": {
     "iopub.execute_input": "2021-11-29T04:31:13.207128Z",
     "iopub.status.busy": "2021-11-29T04:31:13.205952Z",
     "iopub.status.idle": "2021-11-29T04:31:13.214327Z",
     "shell.execute_reply": "2021-11-29T04:31:13.214855Z",
     "shell.execute_reply.started": "2021-11-29T04:19:16.394527Z"
    },
    "papermill": {
     "duration": 0.033979,
     "end_time": "2021-11-29T04:31:13.215025",
     "exception": false,
     "start_time": "2021-11-29T04:31:13.181046",
     "status": "completed"
    },
    "tags": []
   },
   "outputs": [
    {
     "data": {
      "text/plain": [
       "YEAR                                   0\n",
       "TICKETS SOLD                           0\n",
       "TOTAL BOX OFFICE                       0\n",
       "TOTAL INFLATION ADJUSTED BOX OFFICE    0\n",
       "AVERAGE TICKET PRICE                   0\n",
       "dtype: int64"
      ]
     },
     "execution_count": 9,
     "metadata": {},
     "output_type": "execute_result"
    }
   ],
   "source": [
    "AnnualTicketSales.isnull().sum()"
   ]
  },
  {
   "cell_type": "code",
   "execution_count": 10,
   "id": "40d06b7b",
   "metadata": {
    "execution": {
     "iopub.execute_input": "2021-11-29T04:31:13.263314Z",
     "iopub.status.busy": "2021-11-29T04:31:13.262518Z",
     "iopub.status.idle": "2021-11-29T04:31:14.131222Z",
     "shell.execute_reply": "2021-11-29T04:31:14.130484Z",
     "shell.execute_reply.started": "2021-11-29T04:19:16.408325Z"
    },
    "papermill": {
     "duration": 0.893884,
     "end_time": "2021-11-29T04:31:14.131373",
     "exception": false,
     "start_time": "2021-11-29T04:31:13.237489",
     "status": "completed"
    },
    "tags": []
   },
   "outputs": [
    {
     "data": {
      "image/png": "[encoded data removed]",
      "text/plain": [
       "<Figure size 1296x432 with 1 Axes>"
      ]
     },
     "metadata": {
      "needs_background": "light"
     },
     "output_type": "display_data"
    }
   ],
   "source": [
    "ax = sns.catplot(y=\"TICKETS SOLD\", x=\"YEAR\", kind=\"bar\", data=AnnualTicketSales, height=6, aspect=3)\n",
    "plt.ylabel(\"TICKETS SOLD in billion\")\n",
    "plt.grid(True)"
   ]
  },
  {
   "cell_type": "code",
   "execution_count": 11,
   "id": "cce9c83c",
   "metadata": {
    "execution": {
     "iopub.execute_input": "2021-11-29T04:31:14.183139Z",
     "iopub.status.busy": "2021-11-29T04:31:14.182356Z",
     "iopub.status.idle": "2021-11-29T04:31:14.665062Z",
     "shell.execute_reply": "2021-11-29T04:31:14.664398Z",
     "shell.execute_reply.started": "2021-11-29T04:19:17.044184Z"
    },
    "papermill": {
     "duration": 0.510575,
     "end_time": "2021-11-29T04:31:14.665227",
     "exception": false,
     "start_time": "2021-11-29T04:31:14.154652",
     "status": "completed"
    },
    "tags": []
   },
   "outputs": [
    {
     "data": {
      "image/png": "[encoded data removed]",
      "text/plain": [
       "<Figure size 432x288 with 1 Axes>"
      ]
     },
     "metadata": {
      "needs_background": "light"
     },
     "output_type": "display_data"
    }
   ],
   "source": [
    "AnnualTicketSales.plot.bar(x='YEAR',y='TOTAL BOX OFFICE')\n",
    "plt.ylabel(\"TICKETS SOLD in billion\")\n",
    "plt.grid(True)"
   ]
  },
  {
   "cell_type": "markdown",
   "id": "5059d3e1",
   "metadata": {
    "papermill": {
     "duration": 0.024685,
     "end_time": "2021-11-29T04:31:14.715526",
     "exception": false,
     "start_time": "2021-11-29T04:31:14.690841",
     "status": "completed"
    },
    "tags": []
   },
   "source": [
    "# HighestGrossers"
   ]
  },
  {
   "cell_type": "code",
   "execution_count": 12,
   "id": "5109ee71",
   "metadata": {
    "execution": {
     "iopub.execute_input": "2021-11-29T04:31:14.773400Z",
     "iopub.status.busy": "2021-11-29T04:31:14.772618Z",
     "iopub.status.idle": "2021-11-29T04:31:14.780936Z",
     "shell.execute_reply": "2021-11-29T04:31:14.781476Z",
     "shell.execute_reply.started": "2021-11-29T04:19:17.479465Z"
    },
    "papermill": {
     "duration": 0.041383,
     "end_time": "2021-11-29T04:31:14.781653",
     "exception": false,
     "start_time": "2021-11-29T04:31:14.740270",
     "status": "completed"
    },
    "tags": []
   },
   "outputs": [
    {
     "data": {
      "text/html": [
       "<div>\n",
       "<style scoped>\n",
       "    .dataframe tbody tr th:only-of-type {\n",
       "        vertical-align: middle;\n",
       "    }\n",
       "\n",
       "    .dataframe tbody tr th {\n",
       "        vertical-align: top;\n",
       "    }\n",
       "\n",
       "    .dataframe thead th {\n",
       "        text-align: right;\n",
       "    }\n",
       "</style>\n",
       "<table border=\"1\" class=\"dataframe\">\n",
       "  <thead>\n",
       "    <tr style=\"text-align: right;\">\n",
       "      <th></th>\n",
       "      <th>YEAR</th>\n",
       "      <th>MOVIE</th>\n",
       "      <th>GENRE</th>\n",
       "      <th>MPAA RATING</th>\n",
       "      <th>DISTRIBUTOR</th>\n",
       "      <th>TOTAL FOR YEAR</th>\n",
       "      <th>TOTAL IN 2019 DOLLARS</th>\n",
       "      <th>TICKETS SOLD</th>\n",
       "    </tr>\n",
       "  </thead>\n",
       "  <tbody>\n",
       "    <tr>\n",
       "      <th>0</th>\n",
       "      <td>1995</td>\n",
       "      <td>Batman Forever</td>\n",
       "      <td>Drama</td>\n",
       "      <td>PG-13</td>\n",
       "      <td>Warner Bros.</td>\n",
       "      <td>$184,031,112</td>\n",
       "      <td>$387,522,978</td>\n",
       "      <td>4,23,06,002</td>\n",
       "    </tr>\n",
       "    <tr>\n",
       "      <th>1</th>\n",
       "      <td>1996</td>\n",
       "      <td>Independence Day</td>\n",
       "      <td>Adventure</td>\n",
       "      <td>PG-13</td>\n",
       "      <td>20th Century Fox</td>\n",
       "      <td>$306,169,255</td>\n",
       "      <td>$634,504,608</td>\n",
       "      <td>6,92,69,062</td>\n",
       "    </tr>\n",
       "    <tr>\n",
       "      <th>2</th>\n",
       "      <td>1997</td>\n",
       "      <td>Men in Black</td>\n",
       "      <td>Adventure</td>\n",
       "      <td>PG-13</td>\n",
       "      <td>Sony Pictures</td>\n",
       "      <td>$250,650,052</td>\n",
       "      <td>$500,207,943</td>\n",
       "      <td>5,46,07,854</td>\n",
       "    </tr>\n",
       "    <tr>\n",
       "      <th>3</th>\n",
       "      <td>1998</td>\n",
       "      <td>Titanic</td>\n",
       "      <td>Adventure</td>\n",
       "      <td>PG-13</td>\n",
       "      <td>Paramount Pictures</td>\n",
       "      <td>$443,319,081</td>\n",
       "      <td>$865,842,808</td>\n",
       "      <td>9,45,24,324</td>\n",
       "    </tr>\n",
       "    <tr>\n",
       "      <th>4</th>\n",
       "      <td>1999</td>\n",
       "      <td>Star Wars Ep. I: The Phantom Menace</td>\n",
       "      <td>Adventure</td>\n",
       "      <td>PG</td>\n",
       "      <td>20th Century Fox</td>\n",
       "      <td>$430,443,350</td>\n",
       "      <td>$776,153,749</td>\n",
       "      <td>8,47,32,942</td>\n",
       "    </tr>\n",
       "  </tbody>\n",
       "</table>\n",
       "</div>"
      ],
      "text/plain": [
       "   YEAR                                MOVIE      GENRE MPAA RATING  \\\n",
       "0  1995                       Batman Forever      Drama       PG-13   \n",
       "1  1996                     Independence Day  Adventure       PG-13   \n",
       "2  1997                         Men in Black  Adventure       PG-13   \n",
       "3  1998                              Titanic  Adventure       PG-13   \n",
       "4  1999  Star Wars Ep. I: The Phantom Menace  Adventure          PG   \n",
       "\n",
       "          DISTRIBUTOR TOTAL FOR YEAR TOTAL IN 2019 DOLLARS TICKETS SOLD  \n",
       "0        Warner Bros.   $184,031,112          $387,522,978  4,23,06,002  \n",
       "1    20th Century Fox   $306,169,255          $634,504,608  6,92,69,062  \n",
       "2       Sony Pictures   $250,650,052          $500,207,943  5,46,07,854  \n",
       "3  Paramount Pictures   $443,319,081          $865,842,808  9,45,24,324  \n",
       "4    20th Century Fox   $430,443,350          $776,153,749  8,47,32,942  "
      ]
     },
     "execution_count": 12,
     "metadata": {},
     "output_type": "execute_result"
    }
   ],
   "source": [
    "HighestGrossers.head()"
   ]
  },
  {
   "cell_type": "code",
   "execution_count": 13,
   "id": "8f84ced1",
   "metadata": {
    "execution": {
     "iopub.execute_input": "2021-11-29T04:31:14.838807Z",
     "iopub.status.busy": "2021-11-29T04:31:14.838107Z",
     "iopub.status.idle": "2021-11-29T04:31:14.845942Z",
     "shell.execute_reply": "2021-11-29T04:31:14.846432Z",
     "shell.execute_reply.started": "2021-11-29T04:19:17.496013Z"
    },
    "papermill": {
     "duration": 0.037837,
     "end_time": "2021-11-29T04:31:14.846631",
     "exception": false,
     "start_time": "2021-11-29T04:31:14.808794",
     "status": "completed"
    },
    "tags": []
   },
   "outputs": [
    {
     "name": "stderr",
     "output_type": "stream",
     "text": [
      "/opt/conda/lib/python3.7/site-packages/ipykernel_launcher.py:2: FutureWarning: The default value of regex will change from True to False in a future version. In addition, single character regular expressions will *not* be treated as literal strings when regex=True.\n",
      "  \n"
     ]
    }
   ],
   "source": [
    "\n",
    "HighestGrossers['TOTAL FOR YEAR'] = HighestGrossers['TOTAL FOR YEAR'].str.replace(',', '')\n",
    "HighestGrossers['TOTAL FOR YEAR'] = HighestGrossers['TOTAL FOR YEAR'].str.replace('$', '')\n",
    "\n",
    "HighestGrossers[\"TOTAL FOR YEAR\"] = HighestGrossers[\"TOTAL FOR YEAR\"].astype(str).astype(int)"
   ]
  },
  {
   "cell_type": "code",
   "execution_count": 14,
   "id": "b06e0df6",
   "metadata": {
    "execution": {
     "iopub.execute_input": "2021-11-29T04:31:14.903992Z",
     "iopub.status.busy": "2021-11-29T04:31:14.903290Z",
     "iopub.status.idle": "2021-11-29T04:31:14.910867Z",
     "shell.execute_reply": "2021-11-29T04:31:14.910243Z",
     "shell.execute_reply.started": "2021-11-29T04:19:17.515525Z"
    },
    "papermill": {
     "duration": 0.036625,
     "end_time": "2021-11-29T04:31:14.911018",
     "exception": false,
     "start_time": "2021-11-29T04:31:14.874393",
     "status": "completed"
    },
    "tags": []
   },
   "outputs": [],
   "source": [
    "df1 = pd.DataFrame(HighestGrossers, columns = ['MOVIE','TOTAL FOR YEAR'])\n",
    "df1.sort_values(by=['TOTAL FOR YEAR'], ascending = False,inplace=True)"
   ]
  },
  {
   "cell_type": "markdown",
   "id": "d8248da8",
   "metadata": {
    "papermill": {
     "duration": 0.024535,
     "end_time": "2021-11-29T04:31:14.961429",
     "exception": false,
     "start_time": "2021-11-29T04:31:14.936894",
     "status": "completed"
    },
    "tags": []
   },
   "source": [
    "**Top 10 Movies of all Time by Total earnings.**"
   ]
  },
  {
   "cell_type": "code",
   "execution_count": 15,
   "id": "b633f410",
   "metadata": {
    "execution": {
     "iopub.execute_input": "2021-11-29T04:31:15.039242Z",
     "iopub.status.busy": "2021-11-29T04:31:15.016023Z",
     "iopub.status.idle": "2021-11-29T04:31:15.315212Z",
     "shell.execute_reply": "2021-11-29T04:31:15.315883Z",
     "shell.execute_reply.started": "2021-11-29T04:22:39.431013Z"
    },
    "papermill": {
     "duration": 0.328207,
     "end_time": "2021-11-29T04:31:15.316069",
     "exception": false,
     "start_time": "2021-11-29T04:31:14.987862",
     "status": "completed"
    },
    "tags": []
   },
   "outputs": [
    {
     "data": {
      "image/png": "[encoded data removed]",
      "text/plain": [
       "<Figure size 432x288 with 1 Axes>"
      ]
     },
     "metadata": {},
     "output_type": "display_data"
    }
   ],
   "source": [
    "plt.pie(df1['TOTAL FOR YEAR'][0:10],labels = df1['MOVIE'][0:10],autopct='%1.1f%%',explode = (0.05,0.05, 0.1,0.05,0.05,0.05,0.05,0.05,0.05,0.05),radius=3,shadow=True)\n",
    "\n",
    "plt.show()"
   ]
  },
  {
   "cell_type": "markdown",
   "id": "26b63516",
   "metadata": {
    "papermill": {
     "duration": 0.027424,
     "end_time": "2021-11-29T04:31:15.371775",
     "exception": false,
     "start_time": "2021-11-29T04:31:15.344351",
     "status": "completed"
    },
    "tags": []
   },
   "source": [
    "# TopGenres"
   ]
  },
  {
   "cell_type": "code",
   "execution_count": 16,
   "id": "8c15de3f",
   "metadata": {
    "execution": {
     "iopub.execute_input": "2021-11-29T04:31:15.431280Z",
     "iopub.status.busy": "2021-11-29T04:31:15.430496Z",
     "iopub.status.idle": "2021-11-29T04:31:15.442579Z",
     "shell.execute_reply": "2021-11-29T04:31:15.443211Z",
     "shell.execute_reply.started": "2021-11-29T04:25:27.380654Z"
    },
    "papermill": {
     "duration": 0.043282,
     "end_time": "2021-11-29T04:31:15.443383",
     "exception": false,
     "start_time": "2021-11-29T04:31:15.400101",
     "status": "completed"
    },
    "tags": []
   },
   "outputs": [
    {
     "data": {
      "text/html": [
       "<div>\n",
       "<style scoped>\n",
       "    .dataframe tbody tr th:only-of-type {\n",
       "        vertical-align: middle;\n",
       "    }\n",
       "\n",
       "    .dataframe tbody tr th {\n",
       "        vertical-align: top;\n",
       "    }\n",
       "\n",
       "    .dataframe thead th {\n",
       "        text-align: right;\n",
       "    }\n",
       "</style>\n",
       "<table border=\"1\" class=\"dataframe\">\n",
       "  <thead>\n",
       "    <tr style=\"text-align: right;\">\n",
       "      <th></th>\n",
       "      <th>RANK</th>\n",
       "      <th>GENRES</th>\n",
       "      <th>MOVIES</th>\n",
       "      <th>TOTAL GROSS</th>\n",
       "      <th>AVERAGE GROSS</th>\n",
       "      <th>MARKET SHARE</th>\n",
       "    </tr>\n",
       "  </thead>\n",
       "  <tbody>\n",
       "    <tr>\n",
       "      <th>0</th>\n",
       "      <td>1</td>\n",
       "      <td>Adventure</td>\n",
       "      <td>1,102</td>\n",
       "      <td>$64,529,536,530</td>\n",
       "      <td>$58,556,748</td>\n",
       "      <td>27.14%</td>\n",
       "    </tr>\n",
       "    <tr>\n",
       "      <th>1</th>\n",
       "      <td>2</td>\n",
       "      <td>Action</td>\n",
       "      <td>1,098</td>\n",
       "      <td>$49,339,974,493</td>\n",
       "      <td>$44,936,224</td>\n",
       "      <td>20.75%</td>\n",
       "    </tr>\n",
       "    <tr>\n",
       "      <th>2</th>\n",
       "      <td>3</td>\n",
       "      <td>Drama</td>\n",
       "      <td>5,479</td>\n",
       "      <td>$35,586,177,269</td>\n",
       "      <td>$6,495,013</td>\n",
       "      <td>14.97%</td>\n",
       "    </tr>\n",
       "    <tr>\n",
       "      <th>3</th>\n",
       "      <td>4</td>\n",
       "      <td>Comedy</td>\n",
       "      <td>2,418</td>\n",
       "      <td>$33,687,992,318</td>\n",
       "      <td>$13,932,172</td>\n",
       "      <td>14.17%</td>\n",
       "    </tr>\n",
       "    <tr>\n",
       "      <th>4</th>\n",
       "      <td>5</td>\n",
       "      <td>Thriller/Suspense</td>\n",
       "      <td>1,186</td>\n",
       "      <td>$19,810,201,102</td>\n",
       "      <td>$16,703,374</td>\n",
       "      <td>8.33%</td>\n",
       "    </tr>\n",
       "    <tr>\n",
       "      <th>5</th>\n",
       "      <td>6</td>\n",
       "      <td>Horror</td>\n",
       "      <td>716</td>\n",
       "      <td>$13,430,378,699</td>\n",
       "      <td>$18,757,512</td>\n",
       "      <td>5.65%</td>\n",
       "    </tr>\n",
       "    <tr>\n",
       "      <th>6</th>\n",
       "      <td>7</td>\n",
       "      <td>Romantic Comedy</td>\n",
       "      <td>630</td>\n",
       "      <td>$10,480,124,374</td>\n",
       "      <td>$16,635,118</td>\n",
       "      <td>4.41%</td>\n",
       "    </tr>\n",
       "    <tr>\n",
       "      <th>7</th>\n",
       "      <td>8</td>\n",
       "      <td>Musical</td>\n",
       "      <td>201</td>\n",
       "      <td>$4,293,988,317</td>\n",
       "      <td>$21,363,126</td>\n",
       "      <td>1.81%</td>\n",
       "    </tr>\n",
       "    <tr>\n",
       "      <th>8</th>\n",
       "      <td>9</td>\n",
       "      <td>Documentary</td>\n",
       "      <td>2,415</td>\n",
       "      <td>$2,519,513,142</td>\n",
       "      <td>$1,043,277</td>\n",
       "      <td>1.06%</td>\n",
       "    </tr>\n",
       "    <tr>\n",
       "      <th>9</th>\n",
       "      <td>10</td>\n",
       "      <td>Black Comedy</td>\n",
       "      <td>213</td>\n",
       "      <td>$2,185,433,323</td>\n",
       "      <td>$10,260,250</td>\n",
       "      <td>0.92%</td>\n",
       "    </tr>\n",
       "  </tbody>\n",
       "</table>\n",
       "</div>"
      ],
      "text/plain": [
       "   RANK             GENRES MOVIES      TOTAL GROSS AVERAGE GROSS MARKET SHARE\n",
       "0     1          Adventure  1,102  $64,529,536,530   $58,556,748       27.14%\n",
       "1     2             Action  1,098  $49,339,974,493   $44,936,224       20.75%\n",
       "2     3              Drama  5,479  $35,586,177,269    $6,495,013       14.97%\n",
       "3     4             Comedy  2,418  $33,687,992,318   $13,932,172       14.17%\n",
       "4     5  Thriller/Suspense  1,186  $19,810,201,102   $16,703,374        8.33%\n",
       "5     6             Horror    716  $13,430,378,699   $18,757,512        5.65%\n",
       "6     7    Romantic Comedy    630  $10,480,124,374   $16,635,118        4.41%\n",
       "7     8            Musical    201   $4,293,988,317   $21,363,126        1.81%\n",
       "8     9        Documentary  2,415   $2,519,513,142    $1,043,277        1.06%\n",
       "9    10       Black Comedy    213   $2,185,433,323   $10,260,250        0.92%"
      ]
     },
     "execution_count": 16,
     "metadata": {},
     "output_type": "execute_result"
    }
   ],
   "source": [
    "TopGenres"
   ]
  },
  {
   "cell_type": "code",
   "execution_count": 17,
   "id": "c7f71446",
   "metadata": {
    "execution": {
     "iopub.execute_input": "2021-11-29T04:31:15.504034Z",
     "iopub.status.busy": "2021-11-29T04:31:15.503372Z",
     "iopub.status.idle": "2021-11-29T04:31:15.511243Z",
     "shell.execute_reply": "2021-11-29T04:31:15.512529Z",
     "shell.execute_reply.started": "2021-11-29T04:27:06.651081Z"
    },
    "papermill": {
     "duration": 0.0414,
     "end_time": "2021-11-29T04:31:15.512833",
     "exception": false,
     "start_time": "2021-11-29T04:31:15.471433",
     "status": "completed"
    },
    "tags": []
   },
   "outputs": [
    {
     "name": "stderr",
     "output_type": "stream",
     "text": [
      "/opt/conda/lib/python3.7/site-packages/ipykernel_launcher.py:2: FutureWarning: The default value of regex will change from True to False in a future version. In addition, single character regular expressions will *not* be treated as literal strings when regex=True.\n",
      "  \n"
     ]
    }
   ],
   "source": [
    "TopGenres['TOTAL GROSS'] = TopGenres['TOTAL GROSS'].str.replace(',', '')\n",
    "TopGenres['TOTAL GROSS'] = TopGenres['TOTAL GROSS'].str.replace('$', '')\n",
    "\n",
    "TopGenres[\"TOTAL GROSS\"] = TopGenres[\"TOTAL GROSS\"].astype(str).astype(int)"
   ]
  },
  {
   "cell_type": "code",
   "execution_count": 18,
   "id": "c593f895",
   "metadata": {
    "execution": {
     "iopub.execute_input": "2021-11-29T04:31:15.599168Z",
     "iopub.status.busy": "2021-11-29T04:31:15.579076Z",
     "iopub.status.idle": "2021-11-29T04:31:15.993829Z",
     "shell.execute_reply": "2021-11-29T04:31:15.993273Z",
     "shell.execute_reply.started": "2021-11-29T04:28:43.327438Z"
    },
    "papermill": {
     "duration": 0.451535,
     "end_time": "2021-11-29T04:31:15.993980",
     "exception": false,
     "start_time": "2021-11-29T04:31:15.542445",
     "status": "completed"
    },
    "tags": []
   },
   "outputs": [
    {
     "data": {
      "text/plain": [
       "Text(0.5, 1.0, 'Popular Genres')"
      ]
     },
     "execution_count": 18,
     "metadata": {},
     "output_type": "execute_result"
    },
    {
     "data": {
      "image/png": "[encoded data removed]",
      "text/plain": [
       "<Figure size 1296x432 with 1 Axes>"
      ]
     },
     "metadata": {
      "needs_background": "light"
     },
     "output_type": "display_data"
    }
   ],
   "source": [
    "ax = sns.catplot(y=\"TOTAL GROSS\", x=\"GENRES\", kind=\"bar\", data=TopGenres, height=6, aspect=3)\n",
    "plt.ylabel(\"TOTAL GROSS \")\n",
    "plt.title(\"Popular Genres\")\n"
   ]
  },
  {
   "cell_type": "markdown",
   "id": "1e1133c6",
   "metadata": {
    "papermill": {
     "duration": 0.030784,
     "end_time": "2021-11-29T04:31:16.056437",
     "exception": false,
     "start_time": "2021-11-29T04:31:16.025653",
     "status": "completed"
    },
    "tags": []
   },
   "source": [
    "# Thank you !!\n",
    "Please ****UPVOTE**** if you liked my work !!"
   ]
  },
  {
   "cell_type": "code",
   "execution_count": null,
   "id": "f343ff20",
   "metadata": {
    "papermill": {
     "duration": 0.029468,
     "end_time": "2021-11-29T04:31:16.115310",
     "exception": false,
     "start_time": "2021-11-29T04:31:16.085842",
     "status": "completed"
    },
    "tags": []
   },
   "outputs": [],
   "source": []
  }
 ],
 "metadata": {
  "kernelspec": {
   "display_name": "Python 3",
   "language": "python",
   "name": "python3"
  },
  "language_info": {
   "codemirror_mode": {
    "name": "ipython",
    "version": 3
   },
   "file_extension": ".py",
   "mimetype": "text/x-python",
   "name": "python",
   "nbconvert_exporter": "python",
   "pygments_lexer": "ipython3",
   "version": "3.7.10"
  },
  "papermill": {
   "default_parameters": {},
   "duration": 15.74148,
   "end_time": "2021-11-29T04:31:16.856749",
   "environment_variables": {},
   "exception": null,
   "input_path": "__notebook__.ipynb",
   "output_path": "__notebook__.ipynb",
   "parameters": {},
   "start_time": "2021-11-29T04:31:01.115269",
   "version": "2.3.3"
  }
 },
 "nbformat": 4,
 "nbformat_minor": 5
}
